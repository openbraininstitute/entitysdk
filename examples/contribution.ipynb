{
 "cells": [
  {
   "cell_type": "code",
   "execution_count": null,
   "id": "143211ec-83e7-46c2-84bd-ce61f77ba1d0",
   "metadata": {},
   "outputs": [],
   "source": [
    "import io\n",
    "import os\n",
    "import tempfile\n",
    "from pathlib import Path\n",
    "\n",
    "from rich import print as rprint\n",
    "\n",
    "from entitysdk.client import Client\n",
    "from entitysdk.common import ProjectContext\n",
    "from entitysdk.models.agent import Organization, Person\n",
    "from entitysdk.models.contribution import Contribution, Role\n",
    "from entitysdk.models.entity import Entity\n",
    "from entitysdk.models.morphology import ReconstructionMorphology\n",
    "\n",
    "entitycore_api_url = \"http://127.0.0.1:8000\"\n",
    "project_context = ProjectContext(\n",
    "    virtual_lab_id=\"103d7868-147e-4f07-af0d-71d8568f575c\",\n",
    "    project_id=\"103d7868-147e-4f07-af0d-71d8568f575c\",\n",
    ")\n",
    "client = Client(api_url=entitycore_api_url, project_context=project_context)\n",
    "token = os.getenv(\"ACCESS_TOKEN\", \"XXX\")"
   ]
  },
  {
   "cell_type": "markdown",
   "id": "bebd0bea-8d87-4fe5-adcb-b897198aaba6",
   "metadata": {},
   "source": [
    "## Create a Contribution object"
   ]
  },
  {
   "cell_type": "code",
   "execution_count": null,
   "id": "d3daa96f-4acc-46ef-83b4-375d42ab611c",
   "metadata": {},
   "outputs": [],
   "source": [
    "agent = list(client.search(entity_type=Organization, token=token, limit=1))[0]\n",
    "rprint(agent)\n",
    "\n",
    "role = list(client.search(entity_type=Role, token=token, limit=1))[0]\n",
    "rprint(role)\n",
    "\n",
    "\n",
    "morphology = list(client.search(entity_type=ReconstructionMorphology, token=token, limit=2))[1]\n",
    "rprint(morphology)\n",
    "\n",
    "contribution = Contribution(\n",
    "    agent=agent,\n",
    "    role=role,\n",
    "    entity=morphology,\n",
    ")"
   ]
  },
  {
   "cell_type": "markdown",
   "id": "7ba44524-7710-4643-8a13-ca9575c179e7",
   "metadata": {},
   "source": [
    "## Register it"
   ]
  },
  {
   "cell_type": "code",
   "execution_count": null,
   "id": "24076fd8-879b-49a7-af65-f0836b6703c2",
   "metadata": {},
   "outputs": [],
   "source": [
    "registered = client.register(entity=contribution, token=token)\n",
    "print(registered.id)"
   ]
  },
  {
   "cell_type": "markdown",
   "id": "3c7ad61f-c2cf-467a-9624-211b0f06efbc",
   "metadata": {},
   "source": [
    "## Retrieve it"
   ]
  },
  {
   "cell_type": "code",
   "execution_count": null,
   "id": "5d904513-4534-450e-8b97-3a0f185f7f6c",
   "metadata": {},
   "outputs": [],
   "source": [
    "retrieved = client.get(entity_type=Contribution, entity_id=registered.id, token=token)\n",
    "rprint(retrieved)"
   ]
  }
 ],
 "metadata": {
  "kernelspec": {
   "display_name": "Python 3 (ipykernel)",
   "language": "python",
   "name": "python3"
  },
  "language_info": {
   "codemirror_mode": {
    "name": "ipython",
    "version": 3
   },
   "file_extension": ".py",
   "mimetype": "text/x-python",
   "name": "python",
   "nbconvert_exporter": "python",
   "pygments_lexer": "ipython3",
   "version": "3.12.8"
  }
 },
 "nbformat": 4,
 "nbformat_minor": 5
}
