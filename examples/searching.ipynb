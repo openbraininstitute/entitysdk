{
 "cells": [
  {
   "cell_type": "code",
   "execution_count": null,
   "id": "e125893e-9f1a-4335-83a0-cffd4df90770",
   "metadata": {},
   "outputs": [],
   "source": [
    "import os\n",
    "\n",
    "from rich import print as rprint\n",
    "\n",
    "from entitysdk.client import Client\n",
    "from entitysdk.common import ProjectContext\n",
    "from entitysdk.models.contribution import Organization, Person, Role\n",
    "from entitysdk.models.morphology import (\n",
    "    Species,\n",
    "    Strain,\n",
    "    ReconstructionMorphology,\n",
    ")\n",
    "from entitysdk.models.mtype import MTypeClass\n",
    "\n",
    "entitycore_api_url = \"http://127.0.0.1:8000\"\n",
    "project_context = ProjectContext(\n",
    "    virtual_lab_id=\"103d7868-147e-4f07-af0d-71d8568f575c\",\n",
    "    project_id=\"103d7868-147e-4f07-af0d-71d8568f575c\",\n",
    ")\n",
    "client = Client(api_url=entitycore_api_url, project_context=project_context)\n",
    "token = os.getenv(\"ACCESS_TOKEN\", \"XXX\")"
   ]
  },
  {
   "cell_type": "markdown",
   "id": "9130787e-65ff-404b-9400-2af2ca4e84d5",
   "metadata": {},
   "source": [
    "## List all species"
   ]
  },
  {
   "cell_type": "code",
   "execution_count": null,
   "id": "40c5e95e-c10a-404d-8d98-be21ac04709a",
   "metadata": {},
   "outputs": [],
   "source": [
    "species_iterator = client.search(entity_type=Species, token=token)\n",
    "rprint(list(species_iterator))"
   ]
  },
  {
   "cell_type": "markdown",
   "id": "bede81dc-0915-4272-be75-4af6f4b67b71",
   "metadata": {},
   "source": [
    "## List all strains"
   ]
  },
  {
   "cell_type": "code",
   "execution_count": null,
   "id": "0e84c5ef-549d-47df-abb4-eda9527b235b",
   "metadata": {},
   "outputs": [],
   "source": [
    "species_iterator = client.search(entity_type=Strain, token=token)\n",
    "rprint(list(species_iterator))"
   ]
  },
  {
   "cell_type": "markdown",
   "id": "099614f8-b326-48f8-aa76-ca3e2b00aba4",
   "metadata": {},
   "source": [
    "## List all roles"
   ]
  },
  {
   "cell_type": "code",
   "execution_count": null,
   "id": "24cbf54b-2759-4e44-b275-078c0b1169a1",
   "metadata": {},
   "outputs": [],
   "source": [
    "role_iterator = client.search(entity_type=Role, token=token)\n",
    "rprint(list(role_iterator))"
   ]
  },
  {
   "cell_type": "markdown",
   "id": "080a8aed-2ef9-48fe-9d5d-a9d66dc0bdb9",
   "metadata": {},
   "source": [
    "## List all users"
   ]
  },
  {
   "cell_type": "code",
   "execution_count": null,
   "id": "ad3b9059-3c50-4cbd-86df-9f5af4ec1df9",
   "metadata": {},
   "outputs": [],
   "source": [
    "user_it = client.search(entity_type=Person, token=token)\n",
    "rprint(list(user_it))"
   ]
  },
  {
   "cell_type": "markdown",
   "id": "a8a44e27-c30a-4fe9-90cb-64042c45e35e",
   "metadata": {},
   "source": [
    "## List all organizations"
   ]
  },
  {
   "cell_type": "code",
   "execution_count": null,
   "id": "ca81d3a8-ccc5-4982-a2d4-1f8f4ebb3644",
   "metadata": {},
   "outputs": [],
   "source": [
    "org_it = client.search(entity_type=Organization, token=token)\n",
    "rprint(list(org_it))"
   ]
  },
  {
   "cell_type": "markdown",
   "id": "d618e18d-dffc-4540-8aca-f2ca9e27a4c9",
   "metadata": {},
   "source": [
    "## List all mtypes"
   ]
  },
  {
   "cell_type": "code",
   "execution_count": null,
   "id": "9ca37909-9431-42dc-b373-292206d7e66b",
   "metadata": {},
   "outputs": [],
   "source": [
    "mtype_it = client.search(entity_type=MTypeClass, token=token)\n",
    "rprint(list(mtype_it))"
   ]
  },
  {
   "cell_type": "markdown",
   "id": "cbb7263f-11da-4ab1-b7a9-61dde72645f9",
   "metadata": {},
   "source": [
    "## List morphologies"
   ]
  },
  {
   "cell_type": "code",
   "execution_count": null,
   "id": "c139fe93-6f0f-4d82-b73f-cd0dc5d72aff",
   "metadata": {},
   "outputs": [],
   "source": [
    "morph_it = client.search(entity_type=ReconstructionMorphology, token=token, limit=10)\n",
    "rprint(list(morph_it))"
   ]
  }
 ],
 "metadata": {
  "kernelspec": {
   "display_name": "Python 3 (ipykernel)",
   "language": "python",
   "name": "python3"
  },
  "language_info": {
   "codemirror_mode": {
    "name": "ipython",
    "version": 3
   },
   "file_extension": ".py",
   "mimetype": "text/x-python",
   "name": "python",
   "nbconvert_exporter": "python",
   "pygments_lexer": "ipython3",
   "version": "3.12.8"
  }
 },
 "nbformat": 4,
 "nbformat_minor": 5
}
