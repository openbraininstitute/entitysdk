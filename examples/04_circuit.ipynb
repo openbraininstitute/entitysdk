{
 "cells": [
  {
   "cell_type": "code",
   "execution_count": null,
   "id": "5a9af7dd-7946-409f-b242-41497e526894",
   "metadata": {},
   "outputs": [],
   "source": [
    "import os\n",
    "import tempfile\n",
    "from pathlib import Path\n",
    "from rich import print as rprint\n",
    "\n",
    "from entitysdk import Client, ProjectContext, models\n",
    "\n",
    "entitycore_api_url = \"http://127.0.0.1:8000\"\n",
    "project_context = ProjectContext(\n",
    "    virtual_lab_id=\"a98b7abc-fc46-4700-9e3d-37137812c730\",\n",
    "    project_id=\"0dbced5f-cc3d-488a-8c7f-cfb8ea039dc6\",\n",
    ")\n",
    "token = os.getenv(\"ACCESS_TOKEN\", \"XXX\")\n",
    "client = Client(api_url=entitycore_api_url, project_context=project_context, token_manager=token)"
   ]
  },
  {
   "cell_type": "markdown",
   "id": "f36d70c1-54dc-4ea7-8eb9-e14fbcbf1ded",
   "metadata": {},
   "source": [
    "## Create a subject"
   ]
  },
  {
   "cell_type": "code",
   "execution_count": null,
   "id": "8396a7ba-bbaa-41b8-ace0-bd4ef9c1ddb8",
   "metadata": {},
   "outputs": [],
   "source": [
    "species = client.search_entity(\n",
    "    entity_type=models.Species, query={\"name__ilike\": \"Mus musculus\"}\n",
    ").first()\n",
    "\n",
    "subject = models.Subject(\n",
    "    name=\"my-subject\", description=\"my-subject-description\", sex=\"male\", species=species\n",
    ")\n",
    "\n",
    "subject = client.register_entity(subject)"
   ]
  },
  {
   "cell_type": "markdown",
   "id": "5a68b30e-bad6-43cc-8c87-0eeb373232b5",
   "metadata": {},
   "source": [
    "## Register circuit model"
   ]
  },
  {
   "cell_type": "code",
   "execution_count": null,
   "id": "eec53881-cf1b-4816-94a2-06881d8533e4",
   "metadata": {},
   "outputs": [],
   "source": [
    "brain_region = client.search_entity(entity_type=models.BrainRegion, query={\"acronym\": \"CB\"}).first()\n",
    "\n",
    "\n",
    "circuit = client.register_entity(models.Circuit(\n",
    "    name=\"my-circuit\",\n",
    "    description=\"my-circuit\",\n",
    "    subject=subject,\n",
    "    brain_region=brain_region,\n",
    "    number_synapses=2,\n",
    "    number_neurons=5,\n",
    "    number_connections=10,\n",
    "    scale=\"microcircuit\",\n",
    "    build_category=\"em_reconstruction\",\n",
    "))"
   ]
  },
  {
   "cell_type": "markdown",
   "id": "4eb6d2ce-1d03-4ff0-8cef-372fa8022030",
   "metadata": {},
   "source": [
    "## Upload circuit directory"
   ]
  },
  {
   "cell_type": "code",
   "execution_count": null,
   "id": "2e46d59e-a43e-427d-8f33-9cb253a5f5af",
   "metadata": {},
   "outputs": [],
   "source": [
    "directory_asset = client.upload_directory(\n",
    "    entity_id=circuit.id,\n",
    "    entity_type=models.Circuit,\n",
    "    directory_or_paths=Path(\"./test-dir\"),\n",
    ")"
   ]
  },
  {
   "cell_type": "code",
   "execution_count": null,
   "id": "463df0ed-fed6-4a0c-9bba-5f82e0e0728d",
   "metadata": {},
   "outputs": [],
   "source": [
    "rprint(directory_asset)"
   ]
  },
  {
   "cell_type": "markdown",
   "id": "139117a8-da4a-4b2f-a7cf-694fb7fc5839",
   "metadata": {},
   "source": [
    "## List circuit directory"
   ]
  },
  {
   "cell_type": "code",
   "execution_count": null,
   "id": "8b862084-5dd6-4b90-aa02-b87534e34f46",
   "metadata": {},
   "outputs": [],
   "source": [
    "files = client.list_directory(\n",
    "    entity_id=circuit.id,\n",
    "    entity_type=models.Circuit,\n",
    "    asset_id=directory_asset.id\n",
    ")"
   ]
  },
  {
   "cell_type": "code",
   "execution_count": null,
   "id": "649eacb0-2102-4bff-a454-d2202e0f991b",
   "metadata": {},
   "outputs": [],
   "source": [
    "rprint(files)"
   ]
  },
  {
   "cell_type": "markdown",
   "id": "42f528a1-7d94-4b7f-8cba-17ef3cb06022",
   "metadata": {},
   "source": [
    "## Download circuit directory"
   ]
  },
  {
   "cell_type": "code",
   "execution_count": null,
   "id": "390b643d-0458-4e9c-a52a-bedab4944c94",
   "metadata": {},
   "outputs": [],
   "source": [
    "with tempfile.TemporaryDirectory() as tdir:\n",
    "    client.download_directory(\n",
    "        entity_id=circuit.id,\n",
    "        entity_type=models.Circuit,\n",
    "        asset_id=directory_asset.id,\n",
    "        output_path=Path(tdir)\n",
    "    )\n",
    "    rprint(list(Path(tdir).iterdir()))"
   ]
  },
  {
   "cell_type": "markdown",
   "id": "8bf620b4-fafc-4476-a719-bbe6e7a821bf",
   "metadata": {},
   "source": [
    "## Fetch Circuit"
   ]
  },
  {
   "cell_type": "code",
   "execution_count": null,
   "id": "bed0af2c-ae46-41b0-ba77-485daef0a87b",
   "metadata": {},
   "outputs": [],
   "source": [
    "fetched = client.get_entity(entity_id=circuit.id, entity_type=models.Circuit)"
   ]
  },
  {
   "cell_type": "code",
   "execution_count": null,
   "id": "ee27c8b5-dfa5-4fa5-ac2f-6cf158057bcf",
   "metadata": {},
   "outputs": [],
   "source": [
    "rprint(fetched)"
   ]
  }
 ],
 "metadata": {
  "kernelspec": {
   "display_name": "Python 3 (ipykernel)",
   "language": "python",
   "name": "python3"
  },
  "language_info": {
   "codemirror_mode": {
    "name": "ipython",
    "version": 3
   },
   "file_extension": ".py",
   "mimetype": "text/x-python",
   "name": "python",
   "nbconvert_exporter": "python",
   "pygments_lexer": "ipython3",
   "version": "3.12.10"
  }
 },
 "nbformat": 4,
 "nbformat_minor": 5
}
