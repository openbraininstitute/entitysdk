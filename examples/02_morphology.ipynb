{
 "cells": [
  {
   "cell_type": "code",
   "execution_count": 1,
   "id": "47471adc-9c79-4262-9fc4-66f5579f14a8",
   "metadata": {},
   "outputs": [
    {
     "ename": "ImportError",
     "evalue": "cannot import name 'Identifiable' from partially initialized module 'entitysdk.core' (most likely due to a circular import) (/Users/zisis/Projects/entitysdk/src/entitysdk/core.py)",
     "output_type": "error",
     "traceback": [
      "\u001b[31m---------------------------------------------------------------------------\u001b[39m",
      "\u001b[31mImportError\u001b[39m                               Traceback (most recent call last)",
      "\u001b[36mCell\u001b[39m\u001b[36m \u001b[39m\u001b[32mIn[1]\u001b[39m\u001b[32m, line 8\u001b[39m\n\u001b[32m      4\u001b[39m \u001b[38;5;28;01mfrom\u001b[39;00m\u001b[38;5;250m \u001b[39m\u001b[34;01mpathlib\u001b[39;00m\u001b[38;5;250m \u001b[39m\u001b[38;5;28;01mimport\u001b[39;00m Path\n\u001b[32m      6\u001b[39m \u001b[38;5;28;01mfrom\u001b[39;00m\u001b[38;5;250m \u001b[39m\u001b[34;01mrich\u001b[39;00m\u001b[38;5;250m \u001b[39m\u001b[38;5;28;01mimport\u001b[39;00m \u001b[38;5;28mprint\u001b[39m \u001b[38;5;28;01mas\u001b[39;00m rprint\n\u001b[32m----> \u001b[39m\u001b[32m8\u001b[39m \u001b[38;5;28;01mfrom\u001b[39;00m\u001b[38;5;250m \u001b[39m\u001b[34;01mentitysdk\u001b[39;00m\u001b[34;01m.\u001b[39;00m\u001b[34;01mclient\u001b[39;00m\u001b[38;5;250m \u001b[39m\u001b[38;5;28;01mimport\u001b[39;00m Client\n\u001b[32m      9\u001b[39m \u001b[38;5;28;01mfrom\u001b[39;00m\u001b[38;5;250m \u001b[39m\u001b[34;01mentitysdk\u001b[39;00m\u001b[34;01m.\u001b[39;00m\u001b[34;01mcommon\u001b[39;00m\u001b[38;5;250m \u001b[39m\u001b[38;5;28;01mimport\u001b[39;00m ProjectContext\n\u001b[32m     10\u001b[39m \u001b[38;5;28;01mfrom\u001b[39;00m\u001b[38;5;250m \u001b[39m\u001b[34;01mentitysdk\u001b[39;00m\u001b[34;01m.\u001b[39;00m\u001b[34;01mmodels\u001b[39;00m\u001b[38;5;250m \u001b[39m\u001b[38;5;28;01mimport\u001b[39;00m (\n\u001b[32m     11\u001b[39m     BrainLocation,\n\u001b[32m     12\u001b[39m     BrainRegion,\n\u001b[32m   (...)\u001b[39m\u001b[32m     16\u001b[39m     Strain,\n\u001b[32m     17\u001b[39m )\n",
      "\u001b[36mFile \u001b[39m\u001b[32m~/Projects/entitysdk/src/entitysdk/__init__.py:3\u001b[39m\n\u001b[32m      1\u001b[39m \u001b[33;03m\"\"\"entitysdk.\"\"\"\u001b[39;00m\n\u001b[32m----> \u001b[39m\u001b[32m3\u001b[39m \u001b[38;5;28;01mfrom\u001b[39;00m\u001b[38;5;250m \u001b[39m\u001b[34;01mentitysdk\u001b[39;00m\u001b[34;01m.\u001b[39;00m\u001b[34;01mclient\u001b[39;00m\u001b[38;5;250m \u001b[39m\u001b[38;5;28;01mimport\u001b[39;00m Client\n\u001b[32m      4\u001b[39m \u001b[38;5;28;01mfrom\u001b[39;00m\u001b[38;5;250m \u001b[39m\u001b[34;01mentitysdk\u001b[39;00m\u001b[34;01m.\u001b[39;00m\u001b[34;01mcommon\u001b[39;00m\u001b[38;5;250m \u001b[39m\u001b[38;5;28;01mimport\u001b[39;00m ProjectContext\n\u001b[32m      6\u001b[39m __all__ = [\u001b[33m\"\u001b[39m\u001b[33mClient\u001b[39m\u001b[33m\"\u001b[39m, \u001b[33m\"\u001b[39m\u001b[33mProjectContext\u001b[39m\u001b[33m\"\u001b[39m]\n",
      "\u001b[36mFile \u001b[39m\u001b[32m~/Projects/entitysdk/src/entitysdk/client.py:10\u001b[39m\n\u001b[32m      6\u001b[39m \u001b[38;5;28;01mfrom\u001b[39;00m\u001b[38;5;250m \u001b[39m\u001b[34;01mtyping\u001b[39;00m\u001b[38;5;250m \u001b[39m\u001b[38;5;28;01mimport\u001b[39;00m Any, cast\n\u001b[32m      8\u001b[39m \u001b[38;5;28;01mimport\u001b[39;00m\u001b[38;5;250m \u001b[39m\u001b[34;01mhttpx\u001b[39;00m\n\u001b[32m---> \u001b[39m\u001b[32m10\u001b[39m \u001b[38;5;28;01mfrom\u001b[39;00m\u001b[38;5;250m \u001b[39m\u001b[34;01mentitysdk\u001b[39;00m\u001b[38;5;250m \u001b[39m\u001b[38;5;28;01mimport\u001b[39;00m core, route\n\u001b[32m     11\u001b[39m \u001b[38;5;28;01mfrom\u001b[39;00m\u001b[38;5;250m \u001b[39m\u001b[34;01mentitysdk\u001b[39;00m\u001b[34;01m.\u001b[39;00m\u001b[34;01mcommon\u001b[39;00m\u001b[38;5;250m \u001b[39m\u001b[38;5;28;01mimport\u001b[39;00m ProjectContext\n\u001b[32m     12\u001b[39m \u001b[38;5;28;01mfrom\u001b[39;00m\u001b[38;5;250m \u001b[39m\u001b[34;01mentitysdk\u001b[39;00m\u001b[34;01m.\u001b[39;00m\u001b[34;01mexception\u001b[39;00m\u001b[38;5;250m \u001b[39m\u001b[38;5;28;01mimport\u001b[39;00m EntitySDKError\n",
      "\u001b[36mFile \u001b[39m\u001b[32m~/Projects/entitysdk/src/entitysdk/core.py:10\u001b[39m\n\u001b[32m      6\u001b[39m \u001b[38;5;28;01mfrom\u001b[39;00m\u001b[38;5;250m \u001b[39m\u001b[34;01mtyping\u001b[39;00m\u001b[38;5;250m \u001b[39m\u001b[38;5;28;01mimport\u001b[39;00m TypeVar\n\u001b[32m      8\u001b[39m \u001b[38;5;28;01mimport\u001b[39;00m\u001b[38;5;250m \u001b[39m\u001b[34;01mhttpx\u001b[39;00m\n\u001b[32m---> \u001b[39m\u001b[32m10\u001b[39m \u001b[38;5;28;01mfrom\u001b[39;00m\u001b[38;5;250m \u001b[39m\u001b[34;01mentitysdk\u001b[39;00m\u001b[38;5;250m \u001b[39m\u001b[38;5;28;01mimport\u001b[39;00m serdes\n\u001b[32m     11\u001b[39m \u001b[38;5;28;01mfrom\u001b[39;00m\u001b[38;5;250m \u001b[39m\u001b[34;01mentitysdk\u001b[39;00m\u001b[34;01m.\u001b[39;00m\u001b[34;01mcommon\u001b[39;00m\u001b[38;5;250m \u001b[39m\u001b[38;5;28;01mimport\u001b[39;00m ProjectContext\n\u001b[32m     12\u001b[39m \u001b[38;5;28;01mfrom\u001b[39;00m\u001b[38;5;250m \u001b[39m\u001b[34;01mentitysdk\u001b[39;00m\u001b[34;01m.\u001b[39;00m\u001b[34;01mmodels\u001b[39;00m\u001b[34;01m.\u001b[39;00m\u001b[34;01masset\u001b[39;00m\u001b[38;5;250m \u001b[39m\u001b[38;5;28;01mimport\u001b[39;00m Asset, LocalAssetMetadata\n",
      "\u001b[36mFile \u001b[39m\u001b[32m~/Projects/entitysdk/src/entitysdk/serdes.py:5\u001b[39m\n\u001b[32m      1\u001b[39m \u001b[33;03m\"\"\"Serialization and deserialization of entities.\"\"\"\u001b[39;00m\n\u001b[32m      3\u001b[39m \u001b[38;5;28;01mfrom\u001b[39;00m\u001b[38;5;250m \u001b[39m\u001b[34;01mpydantic\u001b[39;00m\u001b[38;5;250m \u001b[39m\u001b[38;5;28;01mimport\u001b[39;00m TypeAdapter\n\u001b[32m----> \u001b[39m\u001b[32m5\u001b[39m \u001b[38;5;28;01mfrom\u001b[39;00m\u001b[38;5;250m \u001b[39m\u001b[34;01mentitysdk\u001b[39;00m\u001b[34;01m.\u001b[39;00m\u001b[34;01mmodels\u001b[39;00m\u001b[34;01m.\u001b[39;00m\u001b[34;01mbase\u001b[39;00m\u001b[38;5;250m \u001b[39m\u001b[38;5;28;01mimport\u001b[39;00m BaseModel\n\u001b[32m      7\u001b[39m SERIALIZATION_EXCLUDE_KEYS = {\n\u001b[32m      8\u001b[39m     \u001b[33m\"\u001b[39m\u001b[33massets\u001b[39m\u001b[33m\"\u001b[39m,\n\u001b[32m      9\u001b[39m     \u001b[33m\"\u001b[39m\u001b[33mcreation_date\u001b[39m\u001b[33m\"\u001b[39m,\n\u001b[32m     10\u001b[39m     \u001b[33m\"\u001b[39m\u001b[33mid\u001b[39m\u001b[33m\"\u001b[39m,\n\u001b[32m     11\u001b[39m     \u001b[33m\"\u001b[39m\u001b[33mupdate_date\u001b[39m\u001b[33m\"\u001b[39m,\n\u001b[32m     12\u001b[39m }\n\u001b[32m     15\u001b[39m \u001b[38;5;28;01mdef\u001b[39;00m\u001b[38;5;250m \u001b[39m\u001b[34mdeserialize_entity\u001b[39m(json_data: \u001b[38;5;28mdict\u001b[39m, entity_type: \u001b[38;5;28mtype\u001b[39m[BaseModel]):\n",
      "\u001b[36mFile \u001b[39m\u001b[32m~/Projects/entitysdk/src/entitysdk/models/__init__.py:8\u001b[39m\n\u001b[32m      6\u001b[39m \u001b[38;5;28;01mfrom\u001b[39;00m\u001b[38;5;250m \u001b[39m\u001b[34;01mentitysdk\u001b[39;00m\u001b[34;01m.\u001b[39;00m\u001b[34;01mmodels\u001b[39;00m\u001b[34;01m.\u001b[39;00m\u001b[34;01mbrain_region\u001b[39;00m\u001b[38;5;250m \u001b[39m\u001b[38;5;28;01mimport\u001b[39;00m BrainRegion\n\u001b[32m      7\u001b[39m \u001b[38;5;28;01mfrom\u001b[39;00m\u001b[38;5;250m \u001b[39m\u001b[34;01mentitysdk\u001b[39;00m\u001b[34;01m.\u001b[39;00m\u001b[34;01mmodels\u001b[39;00m\u001b[34;01m.\u001b[39;00m\u001b[34;01mcircuit\u001b[39;00m\u001b[38;5;250m \u001b[39m\u001b[38;5;28;01mimport\u001b[39;00m Circuit\n\u001b[32m----> \u001b[39m\u001b[32m8\u001b[39m \u001b[38;5;28;01mfrom\u001b[39;00m\u001b[38;5;250m \u001b[39m\u001b[34;01mentitysdk\u001b[39;00m\u001b[34;01m.\u001b[39;00m\u001b[34;01mmodels\u001b[39;00m\u001b[34;01m.\u001b[39;00m\u001b[34;01mclassification\u001b[39;00m\u001b[38;5;250m \u001b[39m\u001b[38;5;28;01mimport\u001b[39;00m ETypeClassification, MTypeClassification\n\u001b[32m      9\u001b[39m \u001b[38;5;28;01mfrom\u001b[39;00m\u001b[38;5;250m \u001b[39m\u001b[34;01mentitysdk\u001b[39;00m\u001b[34;01m.\u001b[39;00m\u001b[34;01mmodels\u001b[39;00m\u001b[34;01m.\u001b[39;00m\u001b[34;01mcontribution\u001b[39;00m\u001b[38;5;250m \u001b[39m\u001b[38;5;28;01mimport\u001b[39;00m Contribution, Role\n\u001b[32m     10\u001b[39m \u001b[38;5;28;01mfrom\u001b[39;00m\u001b[38;5;250m \u001b[39m\u001b[34;01mentitysdk\u001b[39;00m\u001b[34;01m.\u001b[39;00m\u001b[34;01mmodels\u001b[39;00m\u001b[34;01m.\u001b[39;00m\u001b[34;01melectrical_cell_recording\u001b[39;00m\u001b[38;5;250m \u001b[39m\u001b[38;5;28;01mimport\u001b[39;00m ElectricalCellRecording\n",
      "\u001b[36mFile \u001b[39m\u001b[32m~/Projects/entitysdk/src/entitysdk/models/classification.py:7\u001b[39m\n\u001b[32m      3\u001b[39m \u001b[38;5;28;01mfrom\u001b[39;00m\u001b[38;5;250m \u001b[39m\u001b[34;01mtyping\u001b[39;00m\u001b[38;5;250m \u001b[39m\u001b[38;5;28;01mimport\u001b[39;00m Annotated\n\u001b[32m      5\u001b[39m \u001b[38;5;28;01mfrom\u001b[39;00m\u001b[38;5;250m \u001b[39m\u001b[34;01mpydantic\u001b[39;00m\u001b[38;5;250m \u001b[39m\u001b[38;5;28;01mimport\u001b[39;00m Field\n\u001b[32m----> \u001b[39m\u001b[32m7\u001b[39m \u001b[38;5;28;01mfrom\u001b[39;00m\u001b[38;5;250m \u001b[39m\u001b[34;01mentitysdk\u001b[39;00m\u001b[34;01m.\u001b[39;00m\u001b[34;01mcore\u001b[39;00m\u001b[38;5;250m \u001b[39m\u001b[38;5;28;01mimport\u001b[39;00m Identifiable\n\u001b[32m      8\u001b[39m \u001b[38;5;28;01mfrom\u001b[39;00m\u001b[38;5;250m \u001b[39m\u001b[34;01mentitysdk\u001b[39;00m\u001b[34;01m.\u001b[39;00m\u001b[34;01mtypes\u001b[39;00m\u001b[38;5;250m \u001b[39m\u001b[38;5;28;01mimport\u001b[39;00m ID\n\u001b[32m     11\u001b[39m \u001b[38;5;28;01mclass\u001b[39;00m\u001b[38;5;250m \u001b[39m\u001b[34;01mClassification\u001b[39;00m(Identifiable):\n",
      "\u001b[31mImportError\u001b[39m: cannot import name 'Identifiable' from partially initialized module 'entitysdk.core' (most likely due to a circular import) (/Users/zisis/Projects/entitysdk/src/entitysdk/core.py)"
     ]
    }
   ],
   "source": [
    "import io\n",
    "import os\n",
    "import tempfile\n",
    "from pathlib import Path\n",
    "\n",
    "from rich import print as rprint\n",
    "\n",
    "from entitysdk.client import Client\n",
    "from entitysdk.common import ProjectContext\n",
    "from entitysdk.models import (\n",
    "    BrainLocation,\n",
    "    BrainRegion,\n",
    "    MTypeClass,\n",
    "    ReconstructionMorphology,\n",
    "    Species,\n",
    "    Strain,\n",
    ")"
   ]
  },
  {
   "cell_type": "markdown",
   "id": "cacdf95f-d545-417b-b1bd-c8a5181c162f",
   "metadata": {},
   "source": [
    "### Initialize the entitycore client"
   ]
  },
  {
   "cell_type": "code",
   "execution_count": 5,
   "id": "5e4f4ff2-3d5b-4f3a-90a9-ea43d587ebce",
   "metadata": {},
   "outputs": [],
   "source": [
    "entitycore_api_url = \"http://127.0.0.1:8000\"\n",
    "project_context = ProjectContext(\n",
    "    virtual_lab_id=\"a98b7abc-fc46-4700-9e3d-37137812c730\",\n",
    "    project_id=\"0dbced5f-cc3d-488a-8c7f-cfb8ea039dc6\",\n",
    ")\n",
    "token = os.getenv(\"ACCESS_TOKEN\", \"XXX\")\n",
    "client = Client(api_url=entitycore_api_url, project_context=project_context, token_manager=token)\n",
    "\n",
    "\n",
    "# uncomment for staging\n",
    "# from obi_auth import get_token\n",
    "# token = get_token(environment=\"staging\")\n",
    "# Replace this with your vlab project url in staging\n",
    "# project_context = ProjectContext.from_vlab_url(\"https://staging.openbraininstitute.org/app/virtual-lab/lab/594fd60d-7a38-436f-939d-500feaa13bba/project/ff89ca07-6613-4922-9ab0-2637221db8b5/home\")\n",
    "# client = Client(environment=\"staging\", project_context=project_context)"
   ]
  },
  {
   "cell_type": "markdown",
   "id": "15b1762d-11df-42be-bcff-5f42b03ab2cd",
   "metadata": {},
   "source": [
    "## Search for entities"
   ]
  },
  {
   "cell_type": "code",
   "execution_count": 6,
   "id": "93d30bc5-c40c-4a5d-ad9e-9b0c4abc3ef4",
   "metadata": {},
   "outputs": [],
   "source": [
    "species = client.search_entity(entity_type=Species, query={\"name\": \"Mus musculus\"}, limit=10).one()"
   ]
  },
  {
   "cell_type": "code",
   "execution_count": 7,
   "id": "2a697b1d-2bdc-488d-8ce6-5f7547af87fe",
   "metadata": {},
   "outputs": [
    {
     "data": {
      "text/html": [
       "<pre style=\"white-space:pre;overflow-x:auto;line-height:normal;font-family:Menlo,'DejaVu Sans Mono',consolas,'Courier New',monospace\"><span style=\"color: #800080; text-decoration-color: #800080; font-weight: bold\">Species</span><span style=\"font-weight: bold\">(</span>\n",
       "    <span style=\"color: #808000; text-decoration-color: #808000\">id</span>=<span style=\"color: #800080; text-decoration-color: #800080; font-weight: bold\">UUID</span><span style=\"font-weight: bold\">(</span><span style=\"color: #008000; text-decoration-color: #008000\">'fbb190bf-593a-4a89-bd81-fcb6e4c5c133'</span><span style=\"font-weight: bold\">)</span>,\n",
       "    <span style=\"color: #808000; text-decoration-color: #808000\">update_date</span>=<span style=\"color: #800080; text-decoration-color: #800080; font-weight: bold\">datetime</span><span style=\"color: #800080; text-decoration-color: #800080; font-weight: bold\">.datetime</span><span style=\"font-weight: bold\">(</span><span style=\"color: #008080; text-decoration-color: #008080; font-weight: bold\">2025</span>, <span style=\"color: #008080; text-decoration-color: #008080; font-weight: bold\">6</span>, <span style=\"color: #008080; text-decoration-color: #008080; font-weight: bold\">16</span>, <span style=\"color: #008080; text-decoration-color: #008080; font-weight: bold\">19</span>, <span style=\"color: #008080; text-decoration-color: #008080; font-weight: bold\">43</span>, <span style=\"color: #008080; text-decoration-color: #008080; font-weight: bold\">25</span>, <span style=\"color: #008080; text-decoration-color: #008080; font-weight: bold\">972668</span>, <span style=\"color: #808000; text-decoration-color: #808000\">tzinfo</span>=<span style=\"color: #800080; text-decoration-color: #800080; font-weight: bold\">TzInfo</span><span style=\"font-weight: bold\">(</span>UTC<span style=\"font-weight: bold\">))</span>,\n",
       "    <span style=\"color: #808000; text-decoration-color: #808000\">creation_date</span>=<span style=\"color: #800080; text-decoration-color: #800080; font-weight: bold\">datetime</span><span style=\"color: #800080; text-decoration-color: #800080; font-weight: bold\">.datetime</span><span style=\"font-weight: bold\">(</span><span style=\"color: #008080; text-decoration-color: #008080; font-weight: bold\">2025</span>, <span style=\"color: #008080; text-decoration-color: #008080; font-weight: bold\">6</span>, <span style=\"color: #008080; text-decoration-color: #008080; font-weight: bold\">16</span>, <span style=\"color: #008080; text-decoration-color: #008080; font-weight: bold\">19</span>, <span style=\"color: #008080; text-decoration-color: #008080; font-weight: bold\">43</span>, <span style=\"color: #008080; text-decoration-color: #008080; font-weight: bold\">25</span>, <span style=\"color: #008080; text-decoration-color: #008080; font-weight: bold\">972668</span>, <span style=\"color: #808000; text-decoration-color: #808000\">tzinfo</span>=<span style=\"color: #800080; text-decoration-color: #800080; font-weight: bold\">TzInfo</span><span style=\"font-weight: bold\">(</span>UTC<span style=\"font-weight: bold\">))</span>,\n",
       "    <span style=\"color: #808000; text-decoration-color: #808000\">name</span>=<span style=\"color: #008000; text-decoration-color: #008000\">'Mus musculus'</span>,\n",
       "    <span style=\"color: #808000; text-decoration-color: #808000\">taxonomy_id</span>=<span style=\"color: #008000; text-decoration-color: #008000\">'NCBITaxon:10090'</span>\n",
       "<span style=\"font-weight: bold\">)</span>\n",
       "</pre>\n"
      ],
      "text/plain": [
       "\u001b[1;35mSpecies\u001b[0m\u001b[1m(\u001b[0m\n",
       "    \u001b[33mid\u001b[0m=\u001b[1;35mUUID\u001b[0m\u001b[1m(\u001b[0m\u001b[32m'fbb190bf-593a-4a89-bd81-fcb6e4c5c133'\u001b[0m\u001b[1m)\u001b[0m,\n",
       "    \u001b[33mupdate_date\u001b[0m=\u001b[1;35mdatetime\u001b[0m\u001b[1;35m.datetime\u001b[0m\u001b[1m(\u001b[0m\u001b[1;36m2025\u001b[0m, \u001b[1;36m6\u001b[0m, \u001b[1;36m16\u001b[0m, \u001b[1;36m19\u001b[0m, \u001b[1;36m43\u001b[0m, \u001b[1;36m25\u001b[0m, \u001b[1;36m972668\u001b[0m, \u001b[33mtzinfo\u001b[0m=\u001b[1;35mTzInfo\u001b[0m\u001b[1m(\u001b[0mUTC\u001b[1m)\u001b[0m\u001b[1m)\u001b[0m,\n",
       "    \u001b[33mcreation_date\u001b[0m=\u001b[1;35mdatetime\u001b[0m\u001b[1;35m.datetime\u001b[0m\u001b[1m(\u001b[0m\u001b[1;36m2025\u001b[0m, \u001b[1;36m6\u001b[0m, \u001b[1;36m16\u001b[0m, \u001b[1;36m19\u001b[0m, \u001b[1;36m43\u001b[0m, \u001b[1;36m25\u001b[0m, \u001b[1;36m972668\u001b[0m, \u001b[33mtzinfo\u001b[0m=\u001b[1;35mTzInfo\u001b[0m\u001b[1m(\u001b[0mUTC\u001b[1m)\u001b[0m\u001b[1m)\u001b[0m,\n",
       "    \u001b[33mname\u001b[0m=\u001b[32m'Mus musculus'\u001b[0m,\n",
       "    \u001b[33mtaxonomy_id\u001b[0m=\u001b[32m'NCBITaxon:10090'\u001b[0m\n",
       "\u001b[1m)\u001b[0m\n"
      ]
     },
     "metadata": {},
     "output_type": "display_data"
    }
   ],
   "source": [
    "rprint(species)"
   ]
  },
  {
   "cell_type": "code",
   "execution_count": 8,
   "id": "0ea7fd15-bf51-4039-a1fd-c580ce813ff3",
   "metadata": {},
   "outputs": [],
   "source": [
    "strain = client.search_entity(entity_type=Strain, query={\"name\": \"Cux2-CreERT2\"}).one()"
   ]
  },
  {
   "cell_type": "code",
   "execution_count": 9,
   "id": "e5dde536-0c58-4d42-a834-1b1a0ec17e9d",
   "metadata": {},
   "outputs": [
    {
     "data": {
      "text/html": [
       "<pre style=\"white-space:pre;overflow-x:auto;line-height:normal;font-family:Menlo,'DejaVu Sans Mono',consolas,'Courier New',monospace\"><span style=\"color: #800080; text-decoration-color: #800080; font-weight: bold\">Strain</span><span style=\"font-weight: bold\">(</span>\n",
       "    <span style=\"color: #808000; text-decoration-color: #808000\">id</span>=<span style=\"color: #800080; text-decoration-color: #800080; font-weight: bold\">UUID</span><span style=\"font-weight: bold\">(</span><span style=\"color: #008000; text-decoration-color: #008000\">'07a2eca2-79a5-4698-a235-c503109a1fc9'</span><span style=\"font-weight: bold\">)</span>,\n",
       "    <span style=\"color: #808000; text-decoration-color: #808000\">update_date</span>=<span style=\"color: #800080; text-decoration-color: #800080; font-weight: bold\">datetime</span><span style=\"color: #800080; text-decoration-color: #800080; font-weight: bold\">.datetime</span><span style=\"font-weight: bold\">(</span><span style=\"color: #008080; text-decoration-color: #008080; font-weight: bold\">2025</span>, <span style=\"color: #008080; text-decoration-color: #008080; font-weight: bold\">6</span>, <span style=\"color: #008080; text-decoration-color: #008080; font-weight: bold\">16</span>, <span style=\"color: #008080; text-decoration-color: #008080; font-weight: bold\">19</span>, <span style=\"color: #008080; text-decoration-color: #008080; font-weight: bold\">43</span>, <span style=\"color: #008080; text-decoration-color: #008080; font-weight: bold\">25</span>, <span style=\"color: #008080; text-decoration-color: #008080; font-weight: bold\">982882</span>, <span style=\"color: #808000; text-decoration-color: #808000\">tzinfo</span>=<span style=\"color: #800080; text-decoration-color: #800080; font-weight: bold\">TzInfo</span><span style=\"font-weight: bold\">(</span>UTC<span style=\"font-weight: bold\">))</span>,\n",
       "    <span style=\"color: #808000; text-decoration-color: #808000\">creation_date</span>=<span style=\"color: #800080; text-decoration-color: #800080; font-weight: bold\">datetime</span><span style=\"color: #800080; text-decoration-color: #800080; font-weight: bold\">.datetime</span><span style=\"font-weight: bold\">(</span><span style=\"color: #008080; text-decoration-color: #008080; font-weight: bold\">2025</span>, <span style=\"color: #008080; text-decoration-color: #008080; font-weight: bold\">6</span>, <span style=\"color: #008080; text-decoration-color: #008080; font-weight: bold\">16</span>, <span style=\"color: #008080; text-decoration-color: #008080; font-weight: bold\">19</span>, <span style=\"color: #008080; text-decoration-color: #008080; font-weight: bold\">43</span>, <span style=\"color: #008080; text-decoration-color: #008080; font-weight: bold\">25</span>, <span style=\"color: #008080; text-decoration-color: #008080; font-weight: bold\">982882</span>, <span style=\"color: #808000; text-decoration-color: #808000\">tzinfo</span>=<span style=\"color: #800080; text-decoration-color: #800080; font-weight: bold\">TzInfo</span><span style=\"font-weight: bold\">(</span>UTC<span style=\"font-weight: bold\">))</span>,\n",
       "    <span style=\"color: #808000; text-decoration-color: #808000\">name</span>=<span style=\"color: #008000; text-decoration-color: #008000\">'Cux2-CreERT2'</span>,\n",
       "    <span style=\"color: #808000; text-decoration-color: #808000\">taxonomy_id</span>=<span style=\"color: #008000; text-decoration-color: #008000\">'http://bbp.epfl.ch/neurosciencegraph/ontologies/speciestaxonomy/RBS4I6tyfUBSDt1i0jXLpgN'</span>,\n",
       "    <span style=\"color: #808000; text-decoration-color: #808000\">species_id</span>=<span style=\"color: #800080; text-decoration-color: #800080; font-weight: bold\">UUID</span><span style=\"font-weight: bold\">(</span><span style=\"color: #008000; text-decoration-color: #008000\">'fbb190bf-593a-4a89-bd81-fcb6e4c5c133'</span><span style=\"font-weight: bold\">)</span>\n",
       "<span style=\"font-weight: bold\">)</span>\n",
       "</pre>\n"
      ],
      "text/plain": [
       "\u001b[1;35mStrain\u001b[0m\u001b[1m(\u001b[0m\n",
       "    \u001b[33mid\u001b[0m=\u001b[1;35mUUID\u001b[0m\u001b[1m(\u001b[0m\u001b[32m'07a2eca2-79a5-4698-a235-c503109a1fc9'\u001b[0m\u001b[1m)\u001b[0m,\n",
       "    \u001b[33mupdate_date\u001b[0m=\u001b[1;35mdatetime\u001b[0m\u001b[1;35m.datetime\u001b[0m\u001b[1m(\u001b[0m\u001b[1;36m2025\u001b[0m, \u001b[1;36m6\u001b[0m, \u001b[1;36m16\u001b[0m, \u001b[1;36m19\u001b[0m, \u001b[1;36m43\u001b[0m, \u001b[1;36m25\u001b[0m, \u001b[1;36m982882\u001b[0m, \u001b[33mtzinfo\u001b[0m=\u001b[1;35mTzInfo\u001b[0m\u001b[1m(\u001b[0mUTC\u001b[1m)\u001b[0m\u001b[1m)\u001b[0m,\n",
       "    \u001b[33mcreation_date\u001b[0m=\u001b[1;35mdatetime\u001b[0m\u001b[1;35m.datetime\u001b[0m\u001b[1m(\u001b[0m\u001b[1;36m2025\u001b[0m, \u001b[1;36m6\u001b[0m, \u001b[1;36m16\u001b[0m, \u001b[1;36m19\u001b[0m, \u001b[1;36m43\u001b[0m, \u001b[1;36m25\u001b[0m, \u001b[1;36m982882\u001b[0m, \u001b[33mtzinfo\u001b[0m=\u001b[1;35mTzInfo\u001b[0m\u001b[1m(\u001b[0mUTC\u001b[1m)\u001b[0m\u001b[1m)\u001b[0m,\n",
       "    \u001b[33mname\u001b[0m=\u001b[32m'Cux2-CreERT2'\u001b[0m,\n",
       "    \u001b[33mtaxonomy_id\u001b[0m=\u001b[32m'http://bbp.epfl.ch/neurosciencegraph/ontologies/speciestaxonomy/RBS4I6tyfUBSDt1i0jXLpgN'\u001b[0m,\n",
       "    \u001b[33mspecies_id\u001b[0m=\u001b[1;35mUUID\u001b[0m\u001b[1m(\u001b[0m\u001b[32m'fbb190bf-593a-4a89-bd81-fcb6e4c5c133'\u001b[0m\u001b[1m)\u001b[0m\n",
       "\u001b[1m)\u001b[0m\n"
      ]
     },
     "metadata": {},
     "output_type": "display_data"
    }
   ],
   "source": [
    "rprint(strain)"
   ]
  },
  {
   "cell_type": "code",
   "execution_count": 10,
   "id": "5d42a174-9737-4477-830a-3dc908dea925",
   "metadata": {},
   "outputs": [],
   "source": [
    "brain_region = client.search_entity(entity_type=BrainRegion, query={\"annotation_value\": 68}).one()"
   ]
  },
  {
   "cell_type": "code",
   "execution_count": 11,
   "id": "282200cd-ad0c-4bb3-bc21-88de85289179",
   "metadata": {},
   "outputs": [
    {
     "data": {
      "text/html": [
       "<pre style=\"white-space:pre;overflow-x:auto;line-height:normal;font-family:Menlo,'DejaVu Sans Mono',consolas,'Courier New',monospace\"><span style=\"color: #800080; text-decoration-color: #800080; font-weight: bold\">BrainRegion</span><span style=\"font-weight: bold\">(</span>\n",
       "    <span style=\"color: #808000; text-decoration-color: #808000\">id</span>=<span style=\"color: #800080; text-decoration-color: #800080; font-weight: bold\">UUID</span><span style=\"font-weight: bold\">(</span><span style=\"color: #008000; text-decoration-color: #008000\">'ef1772f4-100c-4e80-a132-3c2481b377bd'</span><span style=\"font-weight: bold\">)</span>,\n",
       "    <span style=\"color: #808000; text-decoration-color: #808000\">update_date</span>=<span style=\"color: #800080; text-decoration-color: #800080; font-weight: bold\">datetime</span><span style=\"color: #800080; text-decoration-color: #800080; font-weight: bold\">.datetime</span><span style=\"font-weight: bold\">(</span><span style=\"color: #008080; text-decoration-color: #008080; font-weight: bold\">2025</span>, <span style=\"color: #008080; text-decoration-color: #008080; font-weight: bold\">6</span>, <span style=\"color: #008080; text-decoration-color: #008080; font-weight: bold\">16</span>, <span style=\"color: #008080; text-decoration-color: #008080; font-weight: bold\">19</span>, <span style=\"color: #008080; text-decoration-color: #008080; font-weight: bold\">43</span>, <span style=\"color: #008080; text-decoration-color: #008080; font-weight: bold\">12</span>, <span style=\"color: #008080; text-decoration-color: #008080; font-weight: bold\">479122</span>, <span style=\"color: #808000; text-decoration-color: #808000\">tzinfo</span>=<span style=\"color: #800080; text-decoration-color: #800080; font-weight: bold\">TzInfo</span><span style=\"font-weight: bold\">(</span>UTC<span style=\"font-weight: bold\">))</span>,\n",
       "    <span style=\"color: #808000; text-decoration-color: #808000\">creation_date</span>=<span style=\"color: #800080; text-decoration-color: #800080; font-weight: bold\">datetime</span><span style=\"color: #800080; text-decoration-color: #800080; font-weight: bold\">.datetime</span><span style=\"font-weight: bold\">(</span><span style=\"color: #008080; text-decoration-color: #008080; font-weight: bold\">2025</span>, <span style=\"color: #008080; text-decoration-color: #008080; font-weight: bold\">6</span>, <span style=\"color: #008080; text-decoration-color: #008080; font-weight: bold\">16</span>, <span style=\"color: #008080; text-decoration-color: #008080; font-weight: bold\">19</span>, <span style=\"color: #008080; text-decoration-color: #008080; font-weight: bold\">43</span>, <span style=\"color: #008080; text-decoration-color: #008080; font-weight: bold\">12</span>, <span style=\"color: #008080; text-decoration-color: #008080; font-weight: bold\">479122</span>, <span style=\"color: #808000; text-decoration-color: #808000\">tzinfo</span>=<span style=\"color: #800080; text-decoration-color: #800080; font-weight: bold\">TzInfo</span><span style=\"font-weight: bold\">(</span>UTC<span style=\"font-weight: bold\">))</span>,\n",
       "    <span style=\"color: #808000; text-decoration-color: #808000\">name</span>=<span style=\"color: #008000; text-decoration-color: #008000\">'Frontal pole, layer 1'</span>,\n",
       "    <span style=\"color: #808000; text-decoration-color: #808000\">annotation_value</span>=<span style=\"color: #008080; text-decoration-color: #008080; font-weight: bold\">68</span>,\n",
       "    <span style=\"color: #808000; text-decoration-color: #808000\">acronym</span>=<span style=\"color: #008000; text-decoration-color: #008000\">'FRP1'</span>,\n",
       "    <span style=\"color: #808000; text-decoration-color: #808000\">parent_structure_id</span>=<span style=\"color: #800080; text-decoration-color: #800080; font-weight: bold\">UUID</span><span style=\"font-weight: bold\">(</span><span style=\"color: #008000; text-decoration-color: #008000\">'ec1ca538-d956-4c07-aa9b-e4ddf0b0bed8'</span><span style=\"font-weight: bold\">)</span>,\n",
       "    <span style=\"color: #808000; text-decoration-color: #808000\">hierarchy_id</span>=<span style=\"color: #800080; text-decoration-color: #800080; font-weight: bold\">UUID</span><span style=\"font-weight: bold\">(</span><span style=\"color: #008000; text-decoration-color: #008000\">'f728b4fa-4248-4e3a-8a5d-2f346baa9455'</span><span style=\"font-weight: bold\">)</span>,\n",
       "    <span style=\"color: #808000; text-decoration-color: #808000\">color_hex_triplet</span>=<span style=\"color: #008000; text-decoration-color: #008000\">'268F45'</span>\n",
       "<span style=\"font-weight: bold\">)</span>\n",
       "</pre>\n"
      ],
      "text/plain": [
       "\u001b[1;35mBrainRegion\u001b[0m\u001b[1m(\u001b[0m\n",
       "    \u001b[33mid\u001b[0m=\u001b[1;35mUUID\u001b[0m\u001b[1m(\u001b[0m\u001b[32m'ef1772f4-100c-4e80-a132-3c2481b377bd'\u001b[0m\u001b[1m)\u001b[0m,\n",
       "    \u001b[33mupdate_date\u001b[0m=\u001b[1;35mdatetime\u001b[0m\u001b[1;35m.datetime\u001b[0m\u001b[1m(\u001b[0m\u001b[1;36m2025\u001b[0m, \u001b[1;36m6\u001b[0m, \u001b[1;36m16\u001b[0m, \u001b[1;36m19\u001b[0m, \u001b[1;36m43\u001b[0m, \u001b[1;36m12\u001b[0m, \u001b[1;36m479122\u001b[0m, \u001b[33mtzinfo\u001b[0m=\u001b[1;35mTzInfo\u001b[0m\u001b[1m(\u001b[0mUTC\u001b[1m)\u001b[0m\u001b[1m)\u001b[0m,\n",
       "    \u001b[33mcreation_date\u001b[0m=\u001b[1;35mdatetime\u001b[0m\u001b[1;35m.datetime\u001b[0m\u001b[1m(\u001b[0m\u001b[1;36m2025\u001b[0m, \u001b[1;36m6\u001b[0m, \u001b[1;36m16\u001b[0m, \u001b[1;36m19\u001b[0m, \u001b[1;36m43\u001b[0m, \u001b[1;36m12\u001b[0m, \u001b[1;36m479122\u001b[0m, \u001b[33mtzinfo\u001b[0m=\u001b[1;35mTzInfo\u001b[0m\u001b[1m(\u001b[0mUTC\u001b[1m)\u001b[0m\u001b[1m)\u001b[0m,\n",
       "    \u001b[33mname\u001b[0m=\u001b[32m'Frontal pole, layer 1'\u001b[0m,\n",
       "    \u001b[33mannotation_value\u001b[0m=\u001b[1;36m68\u001b[0m,\n",
       "    \u001b[33macronym\u001b[0m=\u001b[32m'FRP1'\u001b[0m,\n",
       "    \u001b[33mparent_structure_id\u001b[0m=\u001b[1;35mUUID\u001b[0m\u001b[1m(\u001b[0m\u001b[32m'ec1ca538-d956-4c07-aa9b-e4ddf0b0bed8'\u001b[0m\u001b[1m)\u001b[0m,\n",
       "    \u001b[33mhierarchy_id\u001b[0m=\u001b[1;35mUUID\u001b[0m\u001b[1m(\u001b[0m\u001b[32m'f728b4fa-4248-4e3a-8a5d-2f346baa9455'\u001b[0m\u001b[1m)\u001b[0m,\n",
       "    \u001b[33mcolor_hex_triplet\u001b[0m=\u001b[32m'268F45'\u001b[0m\n",
       "\u001b[1m)\u001b[0m\n"
      ]
     },
     "metadata": {},
     "output_type": "display_data"
    }
   ],
   "source": [
    "rprint(brain_region)"
   ]
  },
  {
   "cell_type": "markdown",
   "id": "a0193055-3448-4d1c-99cc-4d953727ef4e",
   "metadata": {},
   "source": [
    "### Create a morphology object"
   ]
  },
  {
   "cell_type": "code",
   "execution_count": 15,
   "id": "fdc328df-2cef-4e23-b240-2de061f0e640",
   "metadata": {},
   "outputs": [],
   "source": [
    "brain_location = BrainLocation(\n",
    "    x=4101.52490234375,\n",
    "    y=1173.8499755859375,\n",
    "    z=4744.60009765625,\n",
    ")\n",
    "morphology = ReconstructionMorphology(\n",
    "    name=\"my-morph\",\n",
    "    description=\"A morphology\",\n",
    "    species=species,\n",
    "    strain=strain,\n",
    "    brain_region=brain_region,\n",
    "    location=brain_location,\n",
    "    legacy_id=None,\n",
    "    authorized_public=True,\n",
    ")"
   ]
  },
  {
   "cell_type": "code",
   "execution_count": 16,
   "id": "2568abc1-8b72-4f35-85d3-19f6935ea232",
   "metadata": {},
   "outputs": [
    {
     "data": {
      "text/html": [
       "<pre style=\"white-space:pre;overflow-x:auto;line-height:normal;font-family:Menlo,'DejaVu Sans Mono',consolas,'Courier New',monospace\"><span style=\"color: #800080; text-decoration-color: #800080; font-weight: bold\">ReconstructionMorphology</span><span style=\"font-weight: bold\">(</span>\n",
       "    <span style=\"color: #808000; text-decoration-color: #808000\">assets</span>=<span style=\"font-weight: bold\">[]</span>,\n",
       "    <span style=\"color: #808000; text-decoration-color: #808000\">id</span>=<span style=\"color: #800080; text-decoration-color: #800080; font-style: italic\">None</span>,\n",
       "    <span style=\"color: #808000; text-decoration-color: #808000\">update_date</span>=<span style=\"color: #800080; text-decoration-color: #800080; font-style: italic\">None</span>,\n",
       "    <span style=\"color: #808000; text-decoration-color: #808000\">creation_date</span>=<span style=\"color: #800080; text-decoration-color: #800080; font-style: italic\">None</span>,\n",
       "    <span style=\"color: #808000; text-decoration-color: #808000\">name</span>=<span style=\"color: #008000; text-decoration-color: #008000\">'my-morph'</span>,\n",
       "    <span style=\"color: #808000; text-decoration-color: #808000\">description</span>=<span style=\"color: #008000; text-decoration-color: #008000\">'A morphology'</span>,\n",
       "    <span style=\"color: #808000; text-decoration-color: #808000\">type</span>=<span style=\"color: #800080; text-decoration-color: #800080; font-style: italic\">None</span>,\n",
       "    <span style=\"color: #808000; text-decoration-color: #808000\">created_by</span>=<span style=\"color: #800080; text-decoration-color: #800080; font-style: italic\">None</span>,\n",
       "    <span style=\"color: #808000; text-decoration-color: #808000\">updated_by</span>=<span style=\"color: #800080; text-decoration-color: #800080; font-style: italic\">None</span>,\n",
       "    <span style=\"color: #808000; text-decoration-color: #808000\">authorized_public</span>=<span style=\"color: #00ff00; text-decoration-color: #00ff00; font-style: italic\">True</span>,\n",
       "    <span style=\"color: #808000; text-decoration-color: #808000\">authorized_project_id</span>=<span style=\"color: #800080; text-decoration-color: #800080; font-style: italic\">None</span>,\n",
       "    <span style=\"color: #808000; text-decoration-color: #808000\">contributions</span>=<span style=\"color: #800080; text-decoration-color: #800080; font-style: italic\">None</span>,\n",
       "    <span style=\"color: #808000; text-decoration-color: #808000\">legacy_id</span>=<span style=\"color: #800080; text-decoration-color: #800080; font-style: italic\">None</span>,\n",
       "    <span style=\"color: #808000; text-decoration-color: #808000\">location</span>=<span style=\"color: #800080; text-decoration-color: #800080; font-weight: bold\">BrainLocation</span><span style=\"font-weight: bold\">(</span><span style=\"color: #808000; text-decoration-color: #808000\">x</span>=<span style=\"color: #008080; text-decoration-color: #008080; font-weight: bold\">4101.52490234375</span>, <span style=\"color: #808000; text-decoration-color: #808000\">y</span>=<span style=\"color: #008080; text-decoration-color: #008080; font-weight: bold\">1173.8499755859375</span>, <span style=\"color: #808000; text-decoration-color: #808000\">z</span>=<span style=\"color: #008080; text-decoration-color: #008080; font-weight: bold\">4744.60009765625</span><span style=\"font-weight: bold\">)</span>,\n",
       "    <span style=\"color: #808000; text-decoration-color: #808000\">brain_region</span>=<span style=\"color: #800080; text-decoration-color: #800080; font-weight: bold\">BrainRegion</span><span style=\"font-weight: bold\">(</span>\n",
       "        <span style=\"color: #808000; text-decoration-color: #808000\">id</span>=<span style=\"color: #800080; text-decoration-color: #800080; font-weight: bold\">UUID</span><span style=\"font-weight: bold\">(</span><span style=\"color: #008000; text-decoration-color: #008000\">'ef1772f4-100c-4e80-a132-3c2481b377bd'</span><span style=\"font-weight: bold\">)</span>,\n",
       "        <span style=\"color: #808000; text-decoration-color: #808000\">update_date</span>=<span style=\"color: #800080; text-decoration-color: #800080; font-weight: bold\">datetime</span><span style=\"color: #800080; text-decoration-color: #800080; font-weight: bold\">.datetime</span><span style=\"font-weight: bold\">(</span><span style=\"color: #008080; text-decoration-color: #008080; font-weight: bold\">2025</span>, <span style=\"color: #008080; text-decoration-color: #008080; font-weight: bold\">6</span>, <span style=\"color: #008080; text-decoration-color: #008080; font-weight: bold\">16</span>, <span style=\"color: #008080; text-decoration-color: #008080; font-weight: bold\">19</span>, <span style=\"color: #008080; text-decoration-color: #008080; font-weight: bold\">43</span>, <span style=\"color: #008080; text-decoration-color: #008080; font-weight: bold\">12</span>, <span style=\"color: #008080; text-decoration-color: #008080; font-weight: bold\">479122</span>, <span style=\"color: #808000; text-decoration-color: #808000\">tzinfo</span>=<span style=\"color: #800080; text-decoration-color: #800080; font-weight: bold\">TzInfo</span><span style=\"font-weight: bold\">(</span>UTC<span style=\"font-weight: bold\">))</span>,\n",
       "        <span style=\"color: #808000; text-decoration-color: #808000\">creation_date</span>=<span style=\"color: #800080; text-decoration-color: #800080; font-weight: bold\">datetime</span><span style=\"color: #800080; text-decoration-color: #800080; font-weight: bold\">.datetime</span><span style=\"font-weight: bold\">(</span><span style=\"color: #008080; text-decoration-color: #008080; font-weight: bold\">2025</span>, <span style=\"color: #008080; text-decoration-color: #008080; font-weight: bold\">6</span>, <span style=\"color: #008080; text-decoration-color: #008080; font-weight: bold\">16</span>, <span style=\"color: #008080; text-decoration-color: #008080; font-weight: bold\">19</span>, <span style=\"color: #008080; text-decoration-color: #008080; font-weight: bold\">43</span>, <span style=\"color: #008080; text-decoration-color: #008080; font-weight: bold\">12</span>, <span style=\"color: #008080; text-decoration-color: #008080; font-weight: bold\">479122</span>, <span style=\"color: #808000; text-decoration-color: #808000\">tzinfo</span>=<span style=\"color: #800080; text-decoration-color: #800080; font-weight: bold\">TzInfo</span><span style=\"font-weight: bold\">(</span>UTC<span style=\"font-weight: bold\">))</span>,\n",
       "        <span style=\"color: #808000; text-decoration-color: #808000\">name</span>=<span style=\"color: #008000; text-decoration-color: #008000\">'Frontal pole, layer 1'</span>,\n",
       "        <span style=\"color: #808000; text-decoration-color: #808000\">annotation_value</span>=<span style=\"color: #008080; text-decoration-color: #008080; font-weight: bold\">68</span>,\n",
       "        <span style=\"color: #808000; text-decoration-color: #808000\">acronym</span>=<span style=\"color: #008000; text-decoration-color: #008000\">'FRP1'</span>,\n",
       "        <span style=\"color: #808000; text-decoration-color: #808000\">parent_structure_id</span>=<span style=\"color: #800080; text-decoration-color: #800080; font-weight: bold\">UUID</span><span style=\"font-weight: bold\">(</span><span style=\"color: #008000; text-decoration-color: #008000\">'ec1ca538-d956-4c07-aa9b-e4ddf0b0bed8'</span><span style=\"font-weight: bold\">)</span>,\n",
       "        <span style=\"color: #808000; text-decoration-color: #808000\">hierarchy_id</span>=<span style=\"color: #800080; text-decoration-color: #800080; font-weight: bold\">UUID</span><span style=\"font-weight: bold\">(</span><span style=\"color: #008000; text-decoration-color: #008000\">'f728b4fa-4248-4e3a-8a5d-2f346baa9455'</span><span style=\"font-weight: bold\">)</span>,\n",
       "        <span style=\"color: #808000; text-decoration-color: #808000\">color_hex_triplet</span>=<span style=\"color: #008000; text-decoration-color: #008000\">'268F45'</span>\n",
       "    <span style=\"font-weight: bold\">)</span>,\n",
       "    <span style=\"color: #808000; text-decoration-color: #808000\">species</span>=<span style=\"color: #800080; text-decoration-color: #800080; font-weight: bold\">Species</span><span style=\"font-weight: bold\">(</span>\n",
       "        <span style=\"color: #808000; text-decoration-color: #808000\">id</span>=<span style=\"color: #800080; text-decoration-color: #800080; font-weight: bold\">UUID</span><span style=\"font-weight: bold\">(</span><span style=\"color: #008000; text-decoration-color: #008000\">'fbb190bf-593a-4a89-bd81-fcb6e4c5c133'</span><span style=\"font-weight: bold\">)</span>,\n",
       "        <span style=\"color: #808000; text-decoration-color: #808000\">update_date</span>=<span style=\"color: #800080; text-decoration-color: #800080; font-weight: bold\">datetime</span><span style=\"color: #800080; text-decoration-color: #800080; font-weight: bold\">.datetime</span><span style=\"font-weight: bold\">(</span><span style=\"color: #008080; text-decoration-color: #008080; font-weight: bold\">2025</span>, <span style=\"color: #008080; text-decoration-color: #008080; font-weight: bold\">6</span>, <span style=\"color: #008080; text-decoration-color: #008080; font-weight: bold\">16</span>, <span style=\"color: #008080; text-decoration-color: #008080; font-weight: bold\">19</span>, <span style=\"color: #008080; text-decoration-color: #008080; font-weight: bold\">43</span>, <span style=\"color: #008080; text-decoration-color: #008080; font-weight: bold\">25</span>, <span style=\"color: #008080; text-decoration-color: #008080; font-weight: bold\">972668</span>, <span style=\"color: #808000; text-decoration-color: #808000\">tzinfo</span>=<span style=\"color: #800080; text-decoration-color: #800080; font-weight: bold\">TzInfo</span><span style=\"font-weight: bold\">(</span>UTC<span style=\"font-weight: bold\">))</span>,\n",
       "        <span style=\"color: #808000; text-decoration-color: #808000\">creation_date</span>=<span style=\"color: #800080; text-decoration-color: #800080; font-weight: bold\">datetime</span><span style=\"color: #800080; text-decoration-color: #800080; font-weight: bold\">.datetime</span><span style=\"font-weight: bold\">(</span><span style=\"color: #008080; text-decoration-color: #008080; font-weight: bold\">2025</span>, <span style=\"color: #008080; text-decoration-color: #008080; font-weight: bold\">6</span>, <span style=\"color: #008080; text-decoration-color: #008080; font-weight: bold\">16</span>, <span style=\"color: #008080; text-decoration-color: #008080; font-weight: bold\">19</span>, <span style=\"color: #008080; text-decoration-color: #008080; font-weight: bold\">43</span>, <span style=\"color: #008080; text-decoration-color: #008080; font-weight: bold\">25</span>, <span style=\"color: #008080; text-decoration-color: #008080; font-weight: bold\">972668</span>, <span style=\"color: #808000; text-decoration-color: #808000\">tzinfo</span>=<span style=\"color: #800080; text-decoration-color: #800080; font-weight: bold\">TzInfo</span><span style=\"font-weight: bold\">(</span>UTC<span style=\"font-weight: bold\">))</span>,\n",
       "        <span style=\"color: #808000; text-decoration-color: #808000\">name</span>=<span style=\"color: #008000; text-decoration-color: #008000\">'Mus musculus'</span>,\n",
       "        <span style=\"color: #808000; text-decoration-color: #808000\">taxonomy_id</span>=<span style=\"color: #008000; text-decoration-color: #008000\">'NCBITaxon:10090'</span>\n",
       "    <span style=\"font-weight: bold\">)</span>,\n",
       "    <span style=\"color: #808000; text-decoration-color: #808000\">strain</span>=<span style=\"color: #800080; text-decoration-color: #800080; font-weight: bold\">Strain</span><span style=\"font-weight: bold\">(</span>\n",
       "        <span style=\"color: #808000; text-decoration-color: #808000\">id</span>=<span style=\"color: #800080; text-decoration-color: #800080; font-weight: bold\">UUID</span><span style=\"font-weight: bold\">(</span><span style=\"color: #008000; text-decoration-color: #008000\">'07a2eca2-79a5-4698-a235-c503109a1fc9'</span><span style=\"font-weight: bold\">)</span>,\n",
       "        <span style=\"color: #808000; text-decoration-color: #808000\">update_date</span>=<span style=\"color: #800080; text-decoration-color: #800080; font-weight: bold\">datetime</span><span style=\"color: #800080; text-decoration-color: #800080; font-weight: bold\">.datetime</span><span style=\"font-weight: bold\">(</span><span style=\"color: #008080; text-decoration-color: #008080; font-weight: bold\">2025</span>, <span style=\"color: #008080; text-decoration-color: #008080; font-weight: bold\">6</span>, <span style=\"color: #008080; text-decoration-color: #008080; font-weight: bold\">16</span>, <span style=\"color: #008080; text-decoration-color: #008080; font-weight: bold\">19</span>, <span style=\"color: #008080; text-decoration-color: #008080; font-weight: bold\">43</span>, <span style=\"color: #008080; text-decoration-color: #008080; font-weight: bold\">25</span>, <span style=\"color: #008080; text-decoration-color: #008080; font-weight: bold\">982882</span>, <span style=\"color: #808000; text-decoration-color: #808000\">tzinfo</span>=<span style=\"color: #800080; text-decoration-color: #800080; font-weight: bold\">TzInfo</span><span style=\"font-weight: bold\">(</span>UTC<span style=\"font-weight: bold\">))</span>,\n",
       "        <span style=\"color: #808000; text-decoration-color: #808000\">creation_date</span>=<span style=\"color: #800080; text-decoration-color: #800080; font-weight: bold\">datetime</span><span style=\"color: #800080; text-decoration-color: #800080; font-weight: bold\">.datetime</span><span style=\"font-weight: bold\">(</span><span style=\"color: #008080; text-decoration-color: #008080; font-weight: bold\">2025</span>, <span style=\"color: #008080; text-decoration-color: #008080; font-weight: bold\">6</span>, <span style=\"color: #008080; text-decoration-color: #008080; font-weight: bold\">16</span>, <span style=\"color: #008080; text-decoration-color: #008080; font-weight: bold\">19</span>, <span style=\"color: #008080; text-decoration-color: #008080; font-weight: bold\">43</span>, <span style=\"color: #008080; text-decoration-color: #008080; font-weight: bold\">25</span>, <span style=\"color: #008080; text-decoration-color: #008080; font-weight: bold\">982882</span>, <span style=\"color: #808000; text-decoration-color: #808000\">tzinfo</span>=<span style=\"color: #800080; text-decoration-color: #800080; font-weight: bold\">TzInfo</span><span style=\"font-weight: bold\">(</span>UTC<span style=\"font-weight: bold\">))</span>,\n",
       "        <span style=\"color: #808000; text-decoration-color: #808000\">name</span>=<span style=\"color: #008000; text-decoration-color: #008000\">'Cux2-CreERT2'</span>,\n",
       "        <span style=\"color: #808000; text-decoration-color: #808000\">taxonomy_id</span>=<span style=\"color: #008000; text-decoration-color: #008000\">'http://bbp.epfl.ch/neurosciencegraph/ontologies/speciestaxonomy/RBS4I6tyfUBSDt1i0jXLpgN'</span>,\n",
       "        <span style=\"color: #808000; text-decoration-color: #808000\">species_id</span>=<span style=\"color: #800080; text-decoration-color: #800080; font-weight: bold\">UUID</span><span style=\"font-weight: bold\">(</span><span style=\"color: #008000; text-decoration-color: #008000\">'fbb190bf-593a-4a89-bd81-fcb6e4c5c133'</span><span style=\"font-weight: bold\">)</span>\n",
       "    <span style=\"font-weight: bold\">)</span>,\n",
       "    <span style=\"color: #808000; text-decoration-color: #808000\">license</span>=<span style=\"color: #800080; text-decoration-color: #800080; font-style: italic\">None</span>,\n",
       "    <span style=\"color: #808000; text-decoration-color: #808000\">mtypes</span>=<span style=\"color: #800080; text-decoration-color: #800080; font-style: italic\">None</span>\n",
       "<span style=\"font-weight: bold\">)</span>\n",
       "</pre>\n"
      ],
      "text/plain": [
       "\u001b[1;35mReconstructionMorphology\u001b[0m\u001b[1m(\u001b[0m\n",
       "    \u001b[33massets\u001b[0m=\u001b[1m[\u001b[0m\u001b[1m]\u001b[0m,\n",
       "    \u001b[33mid\u001b[0m=\u001b[3;35mNone\u001b[0m,\n",
       "    \u001b[33mupdate_date\u001b[0m=\u001b[3;35mNone\u001b[0m,\n",
       "    \u001b[33mcreation_date\u001b[0m=\u001b[3;35mNone\u001b[0m,\n",
       "    \u001b[33mname\u001b[0m=\u001b[32m'my-morph'\u001b[0m,\n",
       "    \u001b[33mdescription\u001b[0m=\u001b[32m'A morphology'\u001b[0m,\n",
       "    \u001b[33mtype\u001b[0m=\u001b[3;35mNone\u001b[0m,\n",
       "    \u001b[33mcreated_by\u001b[0m=\u001b[3;35mNone\u001b[0m,\n",
       "    \u001b[33mupdated_by\u001b[0m=\u001b[3;35mNone\u001b[0m,\n",
       "    \u001b[33mauthorized_public\u001b[0m=\u001b[3;92mTrue\u001b[0m,\n",
       "    \u001b[33mauthorized_project_id\u001b[0m=\u001b[3;35mNone\u001b[0m,\n",
       "    \u001b[33mcontributions\u001b[0m=\u001b[3;35mNone\u001b[0m,\n",
       "    \u001b[33mlegacy_id\u001b[0m=\u001b[3;35mNone\u001b[0m,\n",
       "    \u001b[33mlocation\u001b[0m=\u001b[1;35mBrainLocation\u001b[0m\u001b[1m(\u001b[0m\u001b[33mx\u001b[0m=\u001b[1;36m4101\u001b[0m\u001b[1;36m.52490234375\u001b[0m, \u001b[33my\u001b[0m=\u001b[1;36m1173\u001b[0m\u001b[1;36m.8499755859375\u001b[0m, \u001b[33mz\u001b[0m=\u001b[1;36m4744\u001b[0m\u001b[1;36m.60009765625\u001b[0m\u001b[1m)\u001b[0m,\n",
       "    \u001b[33mbrain_region\u001b[0m=\u001b[1;35mBrainRegion\u001b[0m\u001b[1m(\u001b[0m\n",
       "        \u001b[33mid\u001b[0m=\u001b[1;35mUUID\u001b[0m\u001b[1m(\u001b[0m\u001b[32m'ef1772f4-100c-4e80-a132-3c2481b377bd'\u001b[0m\u001b[1m)\u001b[0m,\n",
       "        \u001b[33mupdate_date\u001b[0m=\u001b[1;35mdatetime\u001b[0m\u001b[1;35m.datetime\u001b[0m\u001b[1m(\u001b[0m\u001b[1;36m2025\u001b[0m, \u001b[1;36m6\u001b[0m, \u001b[1;36m16\u001b[0m, \u001b[1;36m19\u001b[0m, \u001b[1;36m43\u001b[0m, \u001b[1;36m12\u001b[0m, \u001b[1;36m479122\u001b[0m, \u001b[33mtzinfo\u001b[0m=\u001b[1;35mTzInfo\u001b[0m\u001b[1m(\u001b[0mUTC\u001b[1m)\u001b[0m\u001b[1m)\u001b[0m,\n",
       "        \u001b[33mcreation_date\u001b[0m=\u001b[1;35mdatetime\u001b[0m\u001b[1;35m.datetime\u001b[0m\u001b[1m(\u001b[0m\u001b[1;36m2025\u001b[0m, \u001b[1;36m6\u001b[0m, \u001b[1;36m16\u001b[0m, \u001b[1;36m19\u001b[0m, \u001b[1;36m43\u001b[0m, \u001b[1;36m12\u001b[0m, \u001b[1;36m479122\u001b[0m, \u001b[33mtzinfo\u001b[0m=\u001b[1;35mTzInfo\u001b[0m\u001b[1m(\u001b[0mUTC\u001b[1m)\u001b[0m\u001b[1m)\u001b[0m,\n",
       "        \u001b[33mname\u001b[0m=\u001b[32m'Frontal pole, layer 1'\u001b[0m,\n",
       "        \u001b[33mannotation_value\u001b[0m=\u001b[1;36m68\u001b[0m,\n",
       "        \u001b[33macronym\u001b[0m=\u001b[32m'FRP1'\u001b[0m,\n",
       "        \u001b[33mparent_structure_id\u001b[0m=\u001b[1;35mUUID\u001b[0m\u001b[1m(\u001b[0m\u001b[32m'ec1ca538-d956-4c07-aa9b-e4ddf0b0bed8'\u001b[0m\u001b[1m)\u001b[0m,\n",
       "        \u001b[33mhierarchy_id\u001b[0m=\u001b[1;35mUUID\u001b[0m\u001b[1m(\u001b[0m\u001b[32m'f728b4fa-4248-4e3a-8a5d-2f346baa9455'\u001b[0m\u001b[1m)\u001b[0m,\n",
       "        \u001b[33mcolor_hex_triplet\u001b[0m=\u001b[32m'268F45'\u001b[0m\n",
       "    \u001b[1m)\u001b[0m,\n",
       "    \u001b[33mspecies\u001b[0m=\u001b[1;35mSpecies\u001b[0m\u001b[1m(\u001b[0m\n",
       "        \u001b[33mid\u001b[0m=\u001b[1;35mUUID\u001b[0m\u001b[1m(\u001b[0m\u001b[32m'fbb190bf-593a-4a89-bd81-fcb6e4c5c133'\u001b[0m\u001b[1m)\u001b[0m,\n",
       "        \u001b[33mupdate_date\u001b[0m=\u001b[1;35mdatetime\u001b[0m\u001b[1;35m.datetime\u001b[0m\u001b[1m(\u001b[0m\u001b[1;36m2025\u001b[0m, \u001b[1;36m6\u001b[0m, \u001b[1;36m16\u001b[0m, \u001b[1;36m19\u001b[0m, \u001b[1;36m43\u001b[0m, \u001b[1;36m25\u001b[0m, \u001b[1;36m972668\u001b[0m, \u001b[33mtzinfo\u001b[0m=\u001b[1;35mTzInfo\u001b[0m\u001b[1m(\u001b[0mUTC\u001b[1m)\u001b[0m\u001b[1m)\u001b[0m,\n",
       "        \u001b[33mcreation_date\u001b[0m=\u001b[1;35mdatetime\u001b[0m\u001b[1;35m.datetime\u001b[0m\u001b[1m(\u001b[0m\u001b[1;36m2025\u001b[0m, \u001b[1;36m6\u001b[0m, \u001b[1;36m16\u001b[0m, \u001b[1;36m19\u001b[0m, \u001b[1;36m43\u001b[0m, \u001b[1;36m25\u001b[0m, \u001b[1;36m972668\u001b[0m, \u001b[33mtzinfo\u001b[0m=\u001b[1;35mTzInfo\u001b[0m\u001b[1m(\u001b[0mUTC\u001b[1m)\u001b[0m\u001b[1m)\u001b[0m,\n",
       "        \u001b[33mname\u001b[0m=\u001b[32m'Mus musculus'\u001b[0m,\n",
       "        \u001b[33mtaxonomy_id\u001b[0m=\u001b[32m'NCBITaxon:10090'\u001b[0m\n",
       "    \u001b[1m)\u001b[0m,\n",
       "    \u001b[33mstrain\u001b[0m=\u001b[1;35mStrain\u001b[0m\u001b[1m(\u001b[0m\n",
       "        \u001b[33mid\u001b[0m=\u001b[1;35mUUID\u001b[0m\u001b[1m(\u001b[0m\u001b[32m'07a2eca2-79a5-4698-a235-c503109a1fc9'\u001b[0m\u001b[1m)\u001b[0m,\n",
       "        \u001b[33mupdate_date\u001b[0m=\u001b[1;35mdatetime\u001b[0m\u001b[1;35m.datetime\u001b[0m\u001b[1m(\u001b[0m\u001b[1;36m2025\u001b[0m, \u001b[1;36m6\u001b[0m, \u001b[1;36m16\u001b[0m, \u001b[1;36m19\u001b[0m, \u001b[1;36m43\u001b[0m, \u001b[1;36m25\u001b[0m, \u001b[1;36m982882\u001b[0m, \u001b[33mtzinfo\u001b[0m=\u001b[1;35mTzInfo\u001b[0m\u001b[1m(\u001b[0mUTC\u001b[1m)\u001b[0m\u001b[1m)\u001b[0m,\n",
       "        \u001b[33mcreation_date\u001b[0m=\u001b[1;35mdatetime\u001b[0m\u001b[1;35m.datetime\u001b[0m\u001b[1m(\u001b[0m\u001b[1;36m2025\u001b[0m, \u001b[1;36m6\u001b[0m, \u001b[1;36m16\u001b[0m, \u001b[1;36m19\u001b[0m, \u001b[1;36m43\u001b[0m, \u001b[1;36m25\u001b[0m, \u001b[1;36m982882\u001b[0m, \u001b[33mtzinfo\u001b[0m=\u001b[1;35mTzInfo\u001b[0m\u001b[1m(\u001b[0mUTC\u001b[1m)\u001b[0m\u001b[1m)\u001b[0m,\n",
       "        \u001b[33mname\u001b[0m=\u001b[32m'Cux2-CreERT2'\u001b[0m,\n",
       "        \u001b[33mtaxonomy_id\u001b[0m=\u001b[32m'http://bbp.epfl.ch/neurosciencegraph/ontologies/speciestaxonomy/RBS4I6tyfUBSDt1i0jXLpgN'\u001b[0m,\n",
       "        \u001b[33mspecies_id\u001b[0m=\u001b[1;35mUUID\u001b[0m\u001b[1m(\u001b[0m\u001b[32m'fbb190bf-593a-4a89-bd81-fcb6e4c5c133'\u001b[0m\u001b[1m)\u001b[0m\n",
       "    \u001b[1m)\u001b[0m,\n",
       "    \u001b[33mlicense\u001b[0m=\u001b[3;35mNone\u001b[0m,\n",
       "    \u001b[33mmtypes\u001b[0m=\u001b[3;35mNone\u001b[0m\n",
       "\u001b[1m)\u001b[0m\n"
      ]
     },
     "metadata": {},
     "output_type": "display_data"
    }
   ],
   "source": [
    "rprint(morphology)"
   ]
  },
  {
   "cell_type": "markdown",
   "id": "83fb7e5e-73b5-4227-aa22-90bb789b0907",
   "metadata": {},
   "source": [
    "## Register morphology"
   ]
  },
  {
   "cell_type": "code",
   "execution_count": 17,
   "id": "2e32a168",
   "metadata": {},
   "outputs": [],
   "source": [
    "registered = client.register_entity(entity=morphology)"
   ]
  },
  {
   "cell_type": "markdown",
   "id": "5a4482d8-d5d4-45b9-80cb-264c1a531216",
   "metadata": {},
   "source": [
    "## Add mtype"
   ]
  },
  {
   "cell_type": "code",
   "execution_count": 23,
   "id": "540aec85-ed13-4224-99ce-a0628f3fa745",
   "metadata": {},
   "outputs": [],
   "source": [
    "mtype = client.search_entity(entity_type=MTypeClass, query={\"pref_label\": \"L5_PC\"}).one()"
   ]
  },
  {
   "cell_type": "markdown",
   "id": "c0d500bd",
   "metadata": {},
   "source": [
    "## Upload assets"
   ]
  },
  {
   "cell_type": "code",
   "execution_count": 29,
   "id": "51d0c5b4-6251-4ee4-99ef-b6449a4d5da8",
   "metadata": {},
   "outputs": [
    {
     "ename": "NameError",
     "evalue": "name 'registered' is not defined",
     "output_type": "error",
     "traceback": [
      "\u001b[31m---------------------------------------------------------------------------\u001b[39m",
      "\u001b[31mNameError\u001b[39m                                 Traceback (most recent call last)",
      "\u001b[36mCell\u001b[39m\u001b[36m \u001b[39m\u001b[32mIn[29]\u001b[39m\u001b[32m, line 10\u001b[39m\n\u001b[32m      6\u001b[39m file2.write_text(\u001b[33m\"\u001b[39m\u001b[33mswc\u001b[39m\u001b[33m\"\u001b[39m)\n\u001b[32m      8\u001b[39m \u001b[38;5;66;03m# use a filepath to register first asset\u001b[39;00m\n\u001b[32m      9\u001b[39m asset1 = client.upload_file(\n\u001b[32m---> \u001b[39m\u001b[32m10\u001b[39m     entity_id=\u001b[43mregistered\u001b[49m.id,\n\u001b[32m     11\u001b[39m     entity_type=ReconstructionMorphology,\n\u001b[32m     12\u001b[39m     file_path=file1,\n\u001b[32m     13\u001b[39m     file_content_type=\u001b[33m\"\u001b[39m\u001b[33mapplication/h5\u001b[39m\u001b[33m\"\u001b[39m,\n\u001b[32m     14\u001b[39m )\n\u001b[32m     15\u001b[39m rprint(asset1)\n\u001b[32m     17\u001b[39m \u001b[38;5;66;03m# use an in-memory buffer to upload second asset\u001b[39;00m\n",
      "\u001b[31mNameError\u001b[39m: name 'registered' is not defined"
     ]
    }
   ],
   "source": [
    "with tempfile.TemporaryDirectory() as tdir:\n",
    "    file1 = Path(tdir, \"morph.h5\")\n",
    "    file1.write_text(\"h5\")\n",
    "\n",
    "    file2 = Path(tdir, \"morph.swc\")\n",
    "    file2.write_text(\"swc\")\n",
    "\n",
    "    # use a filepath to register first asset\n",
    "    asset1 = client.upload_file(\n",
    "        entity_id=registered.id,\n",
    "        entity_type=ReconstructionMorphology,\n",
    "        file_path=file1,\n",
    "        file_content_type=\"application/h5\",\n",
    "    )\n",
    "    rprint(asset1)\n",
    "\n",
    "    # use an in-memory buffer to upload second asset\n",
    "    buffer = io.BytesIO(b\"morph bytes buffer\")\n",
    "\n",
    "    asset2 = client.upload_content(\n",
    "        entity_id=registered.id,\n",
    "        entity_type=ReconstructionMorphology,\n",
    "        file_content=buffer,\n",
    "        file_name=\"buffer.h5\",\n",
    "        file_content_type=\"application/swc\",\n",
    "    )\n",
    "    rprint(asset2)"
   ]
  },
  {
   "cell_type": "markdown",
   "id": "1b5e396e-bf57-436d-9b06-ce198afc15ca",
   "metadata": {},
   "source": [
    "## Retrieve it"
   ]
  },
  {
   "cell_type": "code",
   "execution_count": 12,
   "id": "3a0f9360-a805-4ccf-ad7c-95f7237d0819",
   "metadata": {},
   "outputs": [
    {
     "ename": "NameError",
     "evalue": "name 'registered' is not defined",
     "output_type": "error",
     "traceback": [
      "\u001b[31m---------------------------------------------------------------------------\u001b[39m",
      "\u001b[31mNameError\u001b[39m                                 Traceback (most recent call last)",
      "\u001b[36mCell\u001b[39m\u001b[36m \u001b[39m\u001b[32mIn[12]\u001b[39m\u001b[32m, line 3\u001b[39m\n\u001b[32m      1\u001b[39m \u001b[38;5;66;03m# with assets included (default)\u001b[39;00m\n\u001b[32m      2\u001b[39m fetched = client.get_entity(\n\u001b[32m----> \u001b[39m\u001b[32m3\u001b[39m     entity_id=\u001b[43mregistered\u001b[49m.id, entity_type=ReconstructionMorphology\n\u001b[32m      4\u001b[39m )\n",
      "\u001b[31mNameError\u001b[39m: name 'registered' is not defined"
     ]
    }
   ],
   "source": [
    "# with assets included (default)\n",
    "fetched = client.get_entity(entity_id=registered.id, entity_type=ReconstructionMorphology)"
   ]
  },
  {
   "cell_type": "code",
   "execution_count": null,
   "id": "70271bac-cc92-49a1-9bdd-aa03bac92a73",
   "metadata": {},
   "outputs": [],
   "source": [
    "rprint(fetched)"
   ]
  },
  {
   "cell_type": "code",
   "execution_count": 15,
   "id": "c979f2e6-5c6c-426e-9828-9202f8c63508",
   "metadata": {},
   "outputs": [
    {
     "ename": "NameError",
     "evalue": "name 'registered' is not defined",
     "output_type": "error",
     "traceback": [
      "\u001b[31m---------------------------------------------------------------------------\u001b[39m",
      "\u001b[31mNameError\u001b[39m                                 Traceback (most recent call last)",
      "\u001b[36mCell\u001b[39m\u001b[36m \u001b[39m\u001b[32mIn[15]\u001b[39m\u001b[32m, line 3\u001b[39m\n\u001b[32m      1\u001b[39m \u001b[38;5;66;03m# without assets\u001b[39;00m\n\u001b[32m      2\u001b[39m fetched_wout_assets = client.get_entity(\n\u001b[32m----> \u001b[39m\u001b[32m3\u001b[39m     entity_id=\u001b[43mregistered\u001b[49m.id, entity_type=ReconstructionMorphology, with_assets=\u001b[38;5;28;01mFalse\u001b[39;00m\n\u001b[32m      4\u001b[39m )\n",
      "\u001b[31mNameError\u001b[39m: name 'registered' is not defined"
     ]
    }
   ],
   "source": [
    "# without assets\n",
    "fetched_wout_assets = client.get_entity(\n",
    "    entity_id=registered.id, entity_type=ReconstructionMorphology, with_assets=False\n",
    ")"
   ]
  },
  {
   "cell_type": "code",
   "execution_count": null,
   "id": "554ed8ef-2aa9-4880-86b3-c67f987cb448",
   "metadata": {},
   "outputs": [],
   "source": [
    "rprint(fetched_wout_assets)"
   ]
  },
  {
   "cell_type": "markdown",
   "id": "b00725dc-ba90-4ddf-b3ba-dea612cd7720",
   "metadata": {},
   "source": [
    "## Download asset"
   ]
  },
  {
   "cell_type": "code",
   "execution_count": null,
   "id": "c89e91f7-a9bb-4d09-b921-4659e338225c",
   "metadata": {},
   "outputs": [],
   "source": [
    "downloaded_asset = client.download_assets(\n",
    "    fetched.assets,\n",
    "    selection={\"content_type\": \"application/swc\"},\n",
    "    output_path=\"./my-file.h5\",\n",
    ").one()\n",
    "\n",
    "content = client.download_content(\n",
    "    entity_id=fetched.id, entity_type=type(fetched), asset_id=downloaded_asset.id\n",
    ")\n",
    "\n",
    "print(content)\n",
    "print(Path(\"my-file.h5\").read_text())"
   ]
  },
  {
   "cell_type": "markdown",
   "id": "6879c149-3f59-4ee6-b878-92bdc6038de9",
   "metadata": {},
   "source": [
    "## Delete asset"
   ]
  },
  {
   "cell_type": "code",
   "execution_count": 16,
   "id": "9a211674-54d2-498f-983a-ab3f3675087d",
   "metadata": {},
   "outputs": [
    {
     "ename": "NameError",
     "evalue": "name 'fetched' is not defined",
     "output_type": "error",
     "traceback": [
      "\u001b[31m---------------------------------------------------------------------------\u001b[39m",
      "\u001b[31mNameError\u001b[39m                                 Traceback (most recent call last)",
      "\u001b[36mCell\u001b[39m\u001b[36m \u001b[39m\u001b[32mIn[16]\u001b[39m\u001b[32m, line 1\u001b[39m\n\u001b[32m----> \u001b[39m\u001b[32m1\u001b[39m \u001b[38;5;28;01mfor\u001b[39;00m asset \u001b[38;5;129;01min\u001b[39;00m \u001b[43mfetched\u001b[49m.assets:\n\u001b[32m      2\u001b[39m     \u001b[38;5;28;01mif\u001b[39;00m asset.content_type == \u001b[33m\"\u001b[39m\u001b[33mapplication/swc\u001b[39m\u001b[33m\"\u001b[39m:\n\u001b[32m      3\u001b[39m         \u001b[38;5;28mprint\u001b[39m(\u001b[33m\"\u001b[39m\u001b[33mDeleting asset \u001b[39m\u001b[33m\"\u001b[39m, asset.id)\n",
      "\u001b[31mNameError\u001b[39m: name 'fetched' is not defined"
     ]
    }
   ],
   "source": [
    "for asset in fetched.assets:\n",
    "    if asset.content_type == \"application/swc\":\n",
    "        print(\"Deleting asset \", asset.id)\n",
    "        deleted_asset = client.delete_asset(\n",
    "            entity_id=fetched.id,\n",
    "            entity_type=type(registered),\n",
    "            asset_id=asset.id,\n",
    "        )\n",
    "        break\n",
    "\n",
    "rprint(deleted_asset)\n",
    "\n",
    "fetched = client.get_entity(\n",
    "    entity_id=registered.id, entity_type=ReconstructionMorphology, token=token\n",
    ")\n",
    "rprint(fetched.assets)"
   ]
  },
  {
   "cell_type": "markdown",
   "id": "34b39d9d-2b08-4933-b3cb-3f9a9c08004b",
   "metadata": {},
   "source": [
    "## Update asset"
   ]
  },
  {
   "cell_type": "code",
   "execution_count": 17,
   "id": "69d44c3c-b07c-46d2-978f-98b1b80b5212",
   "metadata": {},
   "outputs": [
    {
     "ename": "NameError",
     "evalue": "name 'fetched' is not defined",
     "output_type": "error",
     "traceback": [
      "\u001b[31m---------------------------------------------------------------------------\u001b[39m",
      "\u001b[31mNameError\u001b[39m                                 Traceback (most recent call last)",
      "\u001b[36mCell\u001b[39m\u001b[36m \u001b[39m\u001b[32mIn[17]\u001b[39m\u001b[32m, line 7\u001b[39m\n\u001b[32m      4\u001b[39m file1.write_text(\u001b[33m\"\u001b[39m\u001b[33mupdated h5\u001b[39m\u001b[33m\"\u001b[39m)\n\u001b[32m      5\u001b[39m file1.touch()\n\u001b[32m----> \u001b[39m\u001b[32m7\u001b[39m \u001b[38;5;28;01mfor\u001b[39;00m asset \u001b[38;5;129;01min\u001b[39;00m \u001b[43mfetched\u001b[49m.assets:\n\u001b[32m      8\u001b[39m     \u001b[38;5;28;01mif\u001b[39;00m asset.content_type == \u001b[33m\"\u001b[39m\u001b[33mapplication/h5\u001b[39m\u001b[33m\"\u001b[39m:\n\u001b[32m      9\u001b[39m         updated_asset = client.update_asset_file(\n\u001b[32m     10\u001b[39m             entity_id=fetched.id,\n\u001b[32m     11\u001b[39m             entity_type=\u001b[38;5;28mtype\u001b[39m(registered),\n\u001b[32m   (...)\u001b[39m\u001b[32m     15\u001b[39m             file_content_type=asset.content_type,\n\u001b[32m     16\u001b[39m         )\n",
      "\u001b[31mNameError\u001b[39m: name 'fetched' is not defined"
     ]
    }
   ],
   "source": [
    "# update h5 asset with another file\n",
    "with tempfile.TemporaryDirectory() as tdir:\n",
    "    file1 = Path(tdir, \"updated.h5\")\n",
    "    file1.write_text(\"updated h5\")\n",
    "    file1.touch()\n",
    "\n",
    "    for asset in fetched.assets:\n",
    "        if asset.content_type == \"application/h5\":\n",
    "            updated_asset = client.update_asset_file(\n",
    "                entity_id=fetched.id,\n",
    "                entity_type=type(registered),\n",
    "                asset_id=asset.id,\n",
    "                file_name=asset1.path,\n",
    "                file_path=file1,\n",
    "                file_content_type=asset.content_type,\n",
    "            )\n",
    "            break\n",
    "\n",
    "\n",
    "# synchronize morphology with new server data\n",
    "fetched = client.get_entity(\n",
    "    entity_id=registered.id, entity_type=ReconstructionMorphology, token=token\n",
    ")\n",
    "rprint(fetched.assets)\n",
    "\n",
    "\n",
    "# download updated file and check it was successfully updated\n",
    "for asset in fetched.assets:\n",
    "    if asset.content_type == \"application/h5\":\n",
    "        client.download_file(\n",
    "            entity_id=fetched.id,\n",
    "            entity_type=type(fetched),\n",
    "            asset_id=updated_asset.id,\n",
    "            output_path=\"./my-file.h5\",\n",
    "            token=token,\n",
    "        )\n",
    "        content = client.download_content(\n",
    "            entity_id=fetched.id, entity_type=type(fetched), asset_id=asset.id, token=token\n",
    "        )\n",
    "        break\n",
    "print(content)"
   ]
  },
  {
   "cell_type": "markdown",
   "id": "f15c808c-c454-4277-9ec4-587922ac74f3",
   "metadata": {},
   "source": [
    "## Search it"
   ]
  },
  {
   "cell_type": "code",
   "execution_count": null,
   "id": "956cc4d7-9ca8-4bb4-9911-648b4ca18a49",
   "metadata": {},
   "outputs": [],
   "source": [
    "hits = client.search_entity(\n",
    "    entity_type=ReconstructionMorphology,\n",
    "    query={\"name__ilike\": \"my-morph\", \"page\": 1, \"page_size\": 2},\n",
    "    limit=None,\n",
    ").all()\n",
    "\n",
    "print(\"Number of results: \", len(hits))"
   ]
  },
  {
   "cell_type": "code",
   "execution_count": null,
   "id": "4091c7a8-75b9-49d0-8c98-378b7fb5df6d",
   "metadata": {},
   "outputs": [],
   "source": [
    "rprint(hits[0])"
   ]
  }
 ],
 "metadata": {
  "kernelspec": {
   "display_name": "Python 3 (ipykernel)",
   "language": "python",
   "name": "python3"
  },
  "language_info": {
   "codemirror_mode": {
    "name": "ipython",
    "version": 3
   },
   "file_extension": ".py",
   "mimetype": "text/x-python",
   "name": "python",
   "nbconvert_exporter": "python",
   "pygments_lexer": "ipython3",
   "version": "3.12.10"
  }
 },
 "nbformat": 4,
 "nbformat_minor": 5
}
